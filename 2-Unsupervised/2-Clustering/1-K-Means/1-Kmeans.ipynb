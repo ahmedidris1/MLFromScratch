{
 "cells": [
  {
   "cell_type": "code",
   "execution_count": 1,
   "id": "893d9aa1-2775-4b06-bdc0-71a82e585568",
   "metadata": {},
   "outputs": [],
   "source": [
    "import numpy as np\n",
    "import matplotlib.pyplot as plt"
   ]
  },
  {
   "cell_type": "code",
   "execution_count": 2,
   "id": "2c3fef68-a1e5-42f9-9628-75b4dd8b67cd",
   "metadata": {},
   "outputs": [],
   "source": [
    "class Kmeans:\n",
    "    def __init__(self, k_means=5, tolerance=1e-05, n_iter=100, visualize=True):\n",
    "        self.k = k_means\n",
    "        self.n_iter = n_iter\n",
    "        self.visualize = visualize\n",
    "        self.tolerance = tolerance\n",
    "        \n",
    "        self.clusters = { index:[] for index in range(self.k) }\n",
    "        \n",
    "        self.centroids = []\n",
    "        \n",
    "    \n",
    "    def predict(self, X):\n",
    "        self.X = X\n",
    "        n_samples, n_features = X.shape\n",
    "        initial_centroids_indices = np.random.choice(n_samples, self.k, replace=False)\n",
    "        self.centroids = [self.X[index] for index in initial_centroids_indices]\n",
    "        \n",
    "        for _ in range(self.n_iter):\n",
    "            self.clusters = self._create_clusters(self.X, self.k, self.centroids)\n",
    "            \n",
    "            old_centroids = self.centroids\n",
    "            self.centroids = self._update_centroids(self.X, self.k, n_features, self.clusters)\n",
    "            \n",
    "            if self._has_converged(old_centroids, self.centroids, self.k, self.tolerance):\n",
    "                break\n",
    "                \n",
    "        if self.visualize:\n",
    "            self._plot_clusters(self.X, self.clusters, self.centroids)\n",
    "                \n",
    "        return self._populate_labels(n_samples, self.clusters) \n",
    "            \n",
    "            \n",
    "    def _create_clusters(self, X, k, centroids):\n",
    "        clusters = { index:[] for index in range(k) }\n",
    "        \n",
    "        for i, x_i in enumerate(X):\n",
    "            centroid_index = self._closest_centroid(x_i, centroids)\n",
    "            clusters[centroid_index].append(i)\n",
    "        \n",
    "        return clusters\n",
    "    \n",
    "    \n",
    "    def _closest_centroid(self, point, centroids):\n",
    "        distances = [ self._eculidean_distance(centroid, point) for centroid in centroids ]\n",
    "        closest_centroid_index = np.argmin(distances)\n",
    "        \n",
    "        return closest_centroid_index\n",
    "    \n",
    "    \n",
    "    def _update_centroids(self, X, k, n_features, previous_clusters):\n",
    "        centroids = np.zeros((k, n_features))\n",
    "        for key_index, cluster in previous_clusters.items():\n",
    "            centroid_mean = np.mean(X[cluster], axis=0)\n",
    "            centroids[key_index] = centroid_mean\n",
    "        \n",
    "        return centroids\n",
    "            \n",
    "            \n",
    "    def _has_converged(self, old_centroids, new_centroids, k, tolerance):\n",
    "        distances = [ self._eculidean_distance(old_centroids[i], new_centroids[i]) for i in range(k) ]\n",
    "        return np.sum(distances) <= tolerance\n",
    "        \n",
    "    \n",
    "    def _eculidean_distance(self, point_1, point_2):\n",
    "        return np.sqrt( np.sum( (point_1 - point_2)**2 ) )\n",
    "    \n",
    "    \n",
    "    def _populate_labels(self, labels_size, clusters):\n",
    "        labels = np.empty(labels_size)\n",
    "        \n",
    "        for key_index, cluster in clusters.items():\n",
    "            for x_i in cluster:\n",
    "                labels[x_i] = key_index\n",
    "                \n",
    "        return labels\n",
    "    \n",
    "    \n",
    "    def _plot_clusters(self, X, clusters, centroids):\n",
    "        fig, ax = plt.subplots(figsize=(12, 8))\n",
    "        \n",
    "        for key_index, cluster in clusters.items():\n",
    "            points = X[cluster].T\n",
    "            ax.scatter(*points)\n",
    "            \n",
    "        for centroid in centroids:\n",
    "            points = centroids.T\n",
    "            ax.scatter(*points, marker='x', color='black', linewidth=2)"
   ]
  },
  {
   "cell_type": "code",
   "execution_count": 3,
   "id": "df6f8864-0c27-4e6e-9136-deb128d6682d",
   "metadata": {},
   "outputs": [],
   "source": [
    "from sklearn.datasets import make_blobs"
   ]
  },
  {
   "cell_type": "code",
   "execution_count": 4,
   "id": "f826551a-3a1f-4791-9a76-11954d305ff5",
   "metadata": {},
   "outputs": [],
   "source": [
    "X, y = make_blobs(centers=3, n_samples=500, n_features=2, shuffle=True, random_state=40)"
   ]
  },
  {
   "cell_type": "code",
   "execution_count": 5,
   "id": "50e1f5b8-a80b-433a-93bf-425cdee84810",
   "metadata": {},
   "outputs": [],
   "source": [
    "clusters = len(np.unique(y))"
   ]
  },
  {
   "cell_type": "code",
   "execution_count": 6,
   "id": "556097ba-7b21-47ca-b4fa-b73175ef457b",
   "metadata": {},
   "outputs": [],
   "source": [
    "k_means = Kmeans(k_means=clusters, n_iter=200)"
   ]
  },
  {
   "cell_type": "code",
   "execution_count": 7,
   "id": "d1d5d404-b7fc-444a-8d11-96acc3cbc50c",
   "metadata": {},
   "outputs": [
    {
     "data": {
      "image/png": "[encoded data removed]",
      "text/plain": [
       "<Figure size 864x576 with 1 Axes>"
      ]
     },
     "metadata": {
      "needs_background": "light"
     },
     "output_type": "display_data"
    }
   ],
   "source": [
    "y_predicted = k_means.predict(X)"
   ]
  }
 ],
 "metadata": {
  "kernelspec": {
   "display_name": "Python 3 (ipykernel)",
   "language": "python",
   "name": "python3"
  },
  "language_info": {
   "codemirror_mode": {
    "name": "ipython",
    "version": 3
   },
   "file_extension": ".py",
   "mimetype": "text/x-python",
   "name": "python",
   "nbconvert_exporter": "python",
   "pygments_lexer": "ipython3",
   "version": "3.8.10"
  }
 },
 "nbformat": 4,
 "nbformat_minor": 5
}
