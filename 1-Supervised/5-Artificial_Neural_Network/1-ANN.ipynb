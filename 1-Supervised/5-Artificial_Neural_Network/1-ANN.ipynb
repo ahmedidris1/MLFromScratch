{
 "cells": [
  {
   "cell_type": "code",
   "execution_count": 1,
   "id": "00929bb7-4415-44f5-bfc5-425ebc2361a8",
   "metadata": {},
   "outputs": [],
   "source": [
    "import numpy as np"
   ]
  },
  {
   "cell_type": "code",
   "execution_count": 2,
   "id": "8dea91f4-b7d1-41fd-8abc-b8a2e00d3a35",
   "metadata": {},
   "outputs": [],
   "source": [
    "class Layer:\n",
    "    def __init__(self):\n",
    "        self.input = None\n",
    "        self.output = None\n",
    "        \n",
    "    def forward(self, input):\n",
    "        # return output\n",
    "        pass\n",
    "    \n",
    "    def backward(self, learning_rate, output_gradient):\n",
    "        # update parameters and return input gradient\n",
    "        pass"
   ]
  },
  {
   "cell_type": "code",
   "execution_count": 3,
   "id": "58e84478-aa61-4637-8dae-e9ff4ed27086",
   "metadata": {},
   "outputs": [],
   "source": [
    "class Dense(Layer):\n",
    "    def __init__(self, input_size, output_size):\n",
    "        self.w = np.random.randn(output_size, input_size)\n",
    "        self.b = np.random.randn(output_size, 1)\n",
    "    \n",
    "    def forward(self, input):\n",
    "        self.input = input\n",
    "        return np.dot(self.w, self.input) + self.b\n",
    "    \n",
    "    def backward(self, learning_rate, output_gradient):\n",
    "        # update parameters and return input gradient\n",
    "        dw = np.dot(output_gradient, self.input.T)\n",
    "        self.w -= learning_rate*dw\n",
    "        self.b -= learning_rate * output_gradient\n",
    "        return np.dot(self.w.T, output_gradient)"
   ]
  },
  {
   "cell_type": "code",
   "execution_count": 4,
   "id": "3099f51c-6736-47a2-a8ed-c31569a9dc75",
   "metadata": {},
   "outputs": [],
   "source": [
    "class Activation(Layer):\n",
    "    def __init__(self, activation, Activation_derivative):\n",
    "        self.activation = activation\n",
    "        self.Activation_derivative = Activation_derivative\n",
    "        \n",
    "    def forward(self, input):\n",
    "        self.input = input\n",
    "        return self.activation(self.input)\n",
    "    \n",
    "    def backward(self, learning_rate, output_gradient):\n",
    "        # return input gradient\n",
    "        return output_gradient * self.Activation_derivative(self.input)"
   ]
  },
  {
   "cell_type": "code",
   "execution_count": 5,
   "id": "cbbdd758-587f-4bff-9719-f481b1360bad",
   "metadata": {},
   "outputs": [],
   "source": [
    "class Tanh(Activation):\n",
    "    def __init__(self):\n",
    "        def tanh(x):\n",
    "            return np.tanh(x)\n",
    "        \n",
    "        def tanh_derivative(x):\n",
    "            return np.tanh(x)**2\n",
    "        \n",
    "        super().__init__(tanh, tanh_derivative)"
   ]
  },
  {
   "cell_type": "code",
   "execution_count": 6,
   "id": "94262bcd-c7cd-4ea8-a59f-9ae5e877d679",
   "metadata": {},
   "outputs": [],
   "source": [
    "def MSE(predicted, original):\n",
    "    return np.mean( (predicted - original)**2 )\n",
    "\n",
    "def MSE_derivative(predicted, original):\n",
    "    return 2*(predicted - original) / len(original)"
   ]
  },
  {
   "cell_type": "markdown",
   "id": "0698f2b0-101e-4c3c-8c12-682e877a99af",
   "metadata": {},
   "source": [
    "### XOR Problem"
   ]
  },
  {
   "cell_type": "code",
   "execution_count": 7,
   "id": "aa9c241e-38cd-402d-bcd5-87020d07f89a",
   "metadata": {},
   "outputs": [],
   "source": [
    "X = np.reshape( np.array([ [0, 0], [1, 0], [0, 1], [1, 1] ]) , (4,2,1) )\n",
    "Y = np.reshape( np.array([[0], [1], [1], [0]]) , (4, 1, 1) ) "
   ]
  },
  {
   "cell_type": "code",
   "execution_count": 8,
   "id": "159af694-8c04-44b9-b95e-37ad08aeef36",
   "metadata": {},
   "outputs": [],
   "source": [
    "network = [\n",
    "    Dense(2, 3),\n",
    "    Tanh(),\n",
    "    Dense(3, 1),\n",
    "    Tanh()\n",
    "]"
   ]
  },
  {
   "cell_type": "code",
   "execution_count": 9,
   "id": "0b4f0b02-396c-4d12-aaf8-32241d21625e",
   "metadata": {},
   "outputs": [],
   "source": [
    "epochs = 10000\n",
    "learning_rate = .1"
   ]
  },
  {
   "cell_type": "code",
   "execution_count": 14,
   "id": "24afe550-66a4-475e-831e-5746df296b1a",
   "metadata": {},
   "outputs": [
    {
     "name": "stdout",
     "output_type": "stream",
     "text": [
      "epoch=> 500/10000 ---> error=0.25\n",
      "epoch=> 1000/10000 ---> error=0.25\n",
      "epoch=> 1500/10000 ---> error=0.25\n",
      "epoch=> 2000/10000 ---> error=0.25\n",
      "epoch=> 2500/10000 ---> error=0.25\n",
      "epoch=> 3000/10000 ---> error=0.25\n",
      "epoch=> 3500/10000 ---> error=0.25\n",
      "epoch=> 4000/10000 ---> error=0.25\n",
      "epoch=> 4500/10000 ---> error=0.25\n",
      "epoch=> 5000/10000 ---> error=0.25\n",
      "epoch=> 5500/10000 ---> error=0.25\n",
      "epoch=> 6000/10000 ---> error=0.25\n",
      "epoch=> 6500/10000 ---> error=0.25\n",
      "epoch=> 7000/10000 ---> error=0.25\n",
      "epoch=> 7500/10000 ---> error=0.25\n",
      "epoch=> 8000/10000 ---> error=0.25\n",
      "epoch=> 8500/10000 ---> error=0.25\n",
      "epoch=> 9000/10000 ---> error=0.25\n",
      "epoch=> 9500/10000 ---> error=0.25\n",
      "epoch=> 10000/10000 ---> error=0.25\n"
     ]
    }
   ],
   "source": [
    "for e in range(epochs):\n",
    "    error = 0\n",
    "    for x, y in zip(X, Y):\n",
    "        output = x\n",
    "        for layer in network:\n",
    "            output = layer.forward(output)\n",
    "            \n",
    "        error = MSE(y, output)\n",
    "        \n",
    "        grad = MSE_derivative(y, output)\n",
    "        for layer in reversed(network):\n",
    "            grad = layer.backward(learning_rate=learning_rate, output_gradient=grad)\n",
    "    \n",
    "    error /= len(X)\n",
    "    \n",
    "    if (e+1) % 500 == 0:\n",
    "        print(f'epoch=> {e+1}/{epochs} ---> error={error}')"
   ]
  },
  {
   "cell_type": "code",
   "execution_count": null,
   "id": "f8a08d57-013c-4936-a905-4826c76411d9",
   "metadata": {},
   "outputs": [],
   "source": []
  }
 ],
 "metadata": {
  "kernelspec": {
   "display_name": "Python 3 (ipykernel)",
   "language": "python",
   "name": "python3"
  },
  "language_info": {
   "codemirror_mode": {
    "name": "ipython",
    "version": 3
   },
   "file_extension": ".py",
   "mimetype": "text/x-python",
   "name": "python",
   "nbconvert_exporter": "python",
   "pygments_lexer": "ipython3",
   "version": "3.8.10"
  }
 },
 "nbformat": 4,
 "nbformat_minor": 5
}
