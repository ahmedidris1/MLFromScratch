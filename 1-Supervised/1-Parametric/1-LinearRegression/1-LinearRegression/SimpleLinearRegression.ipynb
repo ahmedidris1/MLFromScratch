{
 "cells": [
  {
   "cell_type": "markdown",
   "id": "f59f6ddb-0537-4ab2-9947-fb337b233f23",
   "metadata": {
    "tags": []
   },
   "source": [
    "### Simple Linear Regression From Scratch using Numpy"
   ]
  },
  {
   "cell_type": "code",
   "execution_count": 1,
   "id": "ece72475-f087-4fbe-8517-359296b90541",
   "metadata": {},
   "outputs": [],
   "source": [
    "import numpy as np\n",
    "import matplotlib.pyplot as plt"
   ]
  },
  {
   "cell_type": "code",
   "execution_count": 2,
   "id": "b73c75c0-44d3-4a24-a293-fd2ffbf624b7",
   "metadata": {
    "tags": []
   },
   "outputs": [],
   "source": [
    "x = np.linspace(-10, 10, 100)\n",
    "noise = np.random.normal(size=100) * 10\n",
    "y = 4*x + 3 + noise"
   ]
  },
  {
   "cell_type": "code",
   "execution_count": 3,
   "id": "04206b09-877b-4a44-855c-d0f0849d6d00",
   "metadata": {},
   "outputs": [
    {
     "data": {
      "text/plain": [
       "<matplotlib.legend.Legend at 0x7f385a3cc670>"
      ]
     },
     "execution_count": 3,
     "metadata": {},
     "output_type": "execute_result"
    },
    {
     "data": {
      "image/png": "[encoded data removed]",
      "text/plain": [
       "<Figure size 432x288 with 1 Axes>"
      ]
     },
     "metadata": {
      "needs_background": "light"
     },
     "output_type": "display_data"
    }
   ],
   "source": [
    "plt.scatter(x, y)\n",
    "plt.plot(x, 4*x + 3, color=\"red\", linestyle=\"--\", label='y = 4x + 3')\n",
    "plt.xlabel('X')\n",
    "plt.ylabel('Y')\n",
    "plt.legend()"
   ]
  },
  {
   "cell_type": "code",
   "execution_count": 4,
   "id": "b32f6a27-9aa9-4a6d-8964-ca07787e2282",
   "metadata": {},
   "outputs": [],
   "source": [
    "x = x.reshape([-1, 1])\n",
    "y = y.reshape([-1, 1])\n",
    "\n",
    "n_samples = x.shape[0]\n",
    "\n",
    "split_ratio = .2\n",
    "\n",
    "split_size = int( n_samples * (1-split_ratio) )\n",
    "\n",
    "x_train, x_test, y_train, y_test = x[:split_size], x[split_size: ], y[:split_size], y[split_size: ]"
   ]
  },
  {
   "cell_type": "code",
   "execution_count": 5,
   "id": "f01c13a7-358c-449a-a045-24d75225aae4",
   "metadata": {},
   "outputs": [
    {
     "name": "stdout",
     "output_type": "stream",
     "text": [
      "epoch #0\n",
      "\t loss = 562.44143, RMSE = 23.71585\n",
      "\t        dw =-107.89907, db =5.92242\n",
      "\t\t w = 0.10790, b = 0.99408         562.44143 0.001\n",
      "epoch #100\n",
      "\t loss = 114.62105, RMSE = 10.70612\n",
      "\t        dw =-7.92728, db =-1.92930\n",
      "\t\t w = 3.87272, b = 0.95786         0.13799 0.001\n",
      "epoch #200\n",
      "\t loss = 111.11710, RMSE = 10.54121\n",
      "\t        dw =-0.74333, db =-2.30329\n",
      "\t\t w = 4.16091, b = 1.18098         0.01175 0.001\n",
      "epoch #300\n",
      "\t loss = 110.08298, RMSE = 10.49204\n",
      "\t        dw =-0.21415, db =-2.15624\n",
      "\t\t w = 4.19835, b = 1.40458         0.00940 0.001\n",
      "epoch #400\n",
      "\t loss = 109.21820, RMSE = 10.45075\n",
      "\t        dw =-0.16329, db =-1.98580\n",
      "\t\t w = 4.21646, b = 1.61153         0.00795 0.001\n",
      "epoch #500\n",
      "\t loss = 108.48679, RMSE = 10.41570\n",
      "\t        dw =-0.14776, db =-1.82652\n",
      "\t\t w = 4.23194, b = 1.80196         0.00672 0.001\n",
      "epoch #600\n",
      "\t loss = 107.86814, RMSE = 10.38596\n",
      "\t        dw =-0.13572, db =-1.67986\n",
      "\t\t w = 4.24610, b = 1.97711         0.00569 0.001\n",
      "epoch #700\n",
      "\t loss = 107.34486, RMSE = 10.36074\n",
      "\t        dw =-0.12481, db =-1.54495\n",
      "\t\t w = 4.25911, b = 2.13818         0.00481 0.001\n",
      "epoch #800\n",
      "\t loss = 106.90226, RMSE = 10.33935\n",
      "\t        dw =-0.11478, db =-1.42088\n",
      "\t\t w = 4.27108, b = 2.28633         0.00407 0.001\n",
      "epoch #900\n",
      "\t loss = 106.52789, RMSE = 10.32123\n",
      "\t        dw =-0.10557, db =-1.30678\n",
      "\t\t w = 4.28208, b = 2.42257         0.00344 0.001\n",
      "epoch #1000\n",
      "\t loss = 106.21123, RMSE = 10.30588\n",
      "\t        dw =-0.09709, db =-1.20183\n",
      "\t\t w = 4.29221, b = 2.54788         0.00291 0.001\n"
     ]
    }
   ],
   "source": [
    "n_iter = 1000\n",
    "lr = .001\n",
    "\n",
    "w = 0\n",
    "b = 1\n",
    "\n",
    "stop_factor = 1.0e-03\n",
    "loss_last_values = [0, 0]\n",
    "\n",
    "for epoch in range(n_iter+1):\n",
    "    \n",
    "    y_hat = w*x_train + b\n",
    "    \n",
    "    dw = (1/len(x_train)) * np.dot( x_train.T, (y_hat - y_train) )\n",
    "    db = np.mean(y_hat - y_train )\n",
    "    \n",
    "    w = w - lr*dw\n",
    "    b = b - lr*db\n",
    "    \n",
    "    loss = 1/len(x_train) * np.dot( (y_hat - y_train).T, (y_hat - y_train) )\n",
    "    loss_last_values[0] = loss_last_values[1]\n",
    "    loss_last_values[1] = loss\n",
    "    loss_diff = abs(loss_last_values[0] - loss_last_values[1])[0][0]\n",
    "        \n",
    "    if epoch % 100 == 0:\n",
    "        print(f'epoch #{epoch}\\n\\t loss = {loss[0][0]:.5f}, RMSE = {np.sqrt(loss[0][0]):.5f}\\n\\t\\\n",
    "        dw ={dw[0][0]:.5f}, db ={db:.5f}\\n\\t\\t w = {w[0][0]:.5f}, b = {b:.5f}\\\n",
    "         {loss_diff:.5f} {stop_factor}')\n",
    "     \n",
    "    \n",
    "    if loss_diff <= stop_factor:\n",
    "        print(f'epoch #{epoch}\\n\\t loss = {loss[0][0]:.5f}, RMSE = {np.sqrt(loss[0][0]):.5f}\\n\\t\\\n",
    "        dw ={dw[0][0]:.5f}, db ={db:.5f}\\n\\t\\t w = {w[0][0]:.5f}, b = {b:.5f}\\\n",
    "         {loss_diff:.5f} {stop_factor}')\n",
    "        break"
   ]
  },
  {
   "cell_type": "code",
   "execution_count": 6,
   "id": "220eb338-c588-4dff-a7a8-a03e1c44cdb5",
   "metadata": {},
   "outputs": [
    {
     "data": {
      "text/plain": [
       "4.2922071278516265"
      ]
     },
     "execution_count": 6,
     "metadata": {},
     "output_type": "execute_result"
    }
   ],
   "source": [
    "w[0][0]"
   ]
  },
  {
   "cell_type": "code",
   "execution_count": 7,
   "id": "469be1b2-6568-48ce-95f9-3a948c54b386",
   "metadata": {},
   "outputs": [
    {
     "data": {
      "text/plain": [
       "2.5478789634071823"
      ]
     },
     "execution_count": 7,
     "metadata": {},
     "output_type": "execute_result"
    }
   ],
   "source": [
    "b"
   ]
  },
  {
   "cell_type": "code",
   "execution_count": 8,
   "id": "225aae8f-76a0-449c-b04e-6b1196457344",
   "metadata": {},
   "outputs": [
    {
     "data": {
      "text/plain": [
       "<matplotlib.legend.Legend at 0x7f3858279d30>"
      ]
     },
     "execution_count": 8,
     "metadata": {},
     "output_type": "execute_result"
    },
    {
     "data": {
      "image/png": "[encoded data removed]",
      "text/plain": [
       "<Figure size 432x288 with 1 Axes>"
      ]
     },
     "metadata": {
      "needs_background": "light"
     },
     "output_type": "display_data"
    }
   ],
   "source": [
    "plt.scatter(x, y)\n",
    "plt.plot(x, (4*x + 3), color=\"red\", label='original')\n",
    "\n",
    "y_p = w*x + b\n",
    "plt.plot(x, y_p, color=\"black\", linestyle=\"--\", label='predicted')\n",
    "\n",
    "plt.xlabel('X')\n",
    "plt.ylabel('Y')\n",
    "plt.legend()"
   ]
  },
  {
   "cell_type": "code",
   "execution_count": null,
   "id": "49228bb2-c41e-410e-a298-bcee3787dece",
   "metadata": {},
   "outputs": [],
   "source": []
  }
 ],
 "metadata": {
  "kernelspec": {
   "display_name": "Python 3 (ipykernel)",
   "language": "python",
   "name": "python3"
  },
  "language_info": {
   "codemirror_mode": {
    "name": "ipython",
    "version": 3
   },
   "file_extension": ".py",
   "mimetype": "text/x-python",
   "name": "python",
   "nbconvert_exporter": "python",
   "pygments_lexer": "ipython3",
   "version": "3.8.10"
  }
 },
 "nbformat": 4,
 "nbformat_minor": 5
}
