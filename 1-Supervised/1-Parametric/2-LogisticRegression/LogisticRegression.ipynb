{
 "cells": [
  {
   "cell_type": "code",
   "execution_count": 1,
   "id": "675d0920-db62-469f-93ea-75064c76cdaf",
   "metadata": {},
   "outputs": [],
   "source": [
    "import numpy as np"
   ]
  },
  {
   "cell_type": "code",
   "execution_count": 2,
   "id": "3132e3dd-a7d3-4fdc-8d36-e6435223ca36",
   "metadata": {},
   "outputs": [],
   "source": [
    "class LogisticRegression:\n",
    "    def __init__(self, lr=.01, n_iter=1000):\n",
    "        self.lr = lr\n",
    "        self.n_iter = n_iter\n",
    "        self.w = None\n",
    "        self.b = None\n",
    "        \n",
    "    def fit(self, X, Y):\n",
    "        n_samples, n_features = X.shape\n",
    "        \n",
    "        self.w = np.zeros(n_features)\n",
    "        self.b = 0\n",
    "\n",
    "        for _ in range(self.n_iter):\n",
    "            linear_fn = np.dot(X, self.w) + self.b\n",
    "            y_predicted = self._sigmoid(linear_fn)\n",
    "            \n",
    "            dw = (1/n_samples) * np.dot(X.T, (y_predicted - Y))\n",
    "            db = (1/n_samples) * np.sum(y_predicted - Y)\n",
    "            \n",
    "            self.w -= self.lr * dw\n",
    "            self.b -= self.lr * db\n",
    "            \n",
    "    def predict(self, X):\n",
    "        linear_fn = np.dot(X, self.w) + self.b\n",
    "        y_predicted = self._sigmoid(linear_fn)\n",
    "        y_predicted_labels = [1 if y > 0.5 else 0 for y in y_predicted]\n",
    "        return np.array(y_predicted_labels)\n",
    "    \n",
    "    def _sigmoid(self, x):\n",
    "        return 1 / (1 + np.exp(-x))"
   ]
  },
  {
   "cell_type": "code",
   "execution_count": 3,
   "id": "4a4e6fbc-e812-46bf-8795-bd99d1762636",
   "metadata": {},
   "outputs": [],
   "source": [
    "from sklearn.datasets import load_breast_cancer\n",
    "from sklearn.model_selection import train_test_split"
   ]
  },
  {
   "cell_type": "code",
   "execution_count": 4,
   "id": "26064706-dfd8-4cf7-994e-4f6ced7c31c1",
   "metadata": {},
   "outputs": [],
   "source": [
    "breast_cancer_dataset = load_breast_cancer()\n",
    "X, Y = breast_cancer_dataset.data, breast_cancer_dataset.target"
   ]
  },
  {
   "cell_type": "code",
   "execution_count": 5,
   "id": "2fb1d608-eb53-43f4-8de0-f6c3acbd45c8",
   "metadata": {},
   "outputs": [],
   "source": [
    "X_train, X_test, Y_train, Y_test = train_test_split(X, Y, test_size=.2, random_state=41)"
   ]
  },
  {
   "cell_type": "code",
   "execution_count": 6,
   "id": "1faacae5-8725-4371-9f40-0332cedc9727",
   "metadata": {},
   "outputs": [],
   "source": [
    "logit_model = LogisticRegression(lr=.0001, n_iter=2000)\n",
    "logit_model.fit(X_train, Y_train)"
   ]
  },
  {
   "cell_type": "code",
   "execution_count": 7,
   "id": "724bd58b-3b4b-460a-aa80-2398bd885595",
   "metadata": {},
   "outputs": [
    {
     "data": {
      "text/plain": [
       "0.004440439381350963"
      ]
     },
     "execution_count": 7,
     "metadata": {},
     "output_type": "execute_result"
    }
   ],
   "source": [
    "logit_model.b"
   ]
  },
  {
   "cell_type": "code",
   "execution_count": 8,
   "id": "68b3e752-499d-44ad-9f79-cd763f0838c9",
   "metadata": {},
   "outputs": [],
   "source": [
    "predictions = logit_model.predict(X_test)"
   ]
  },
  {
   "cell_type": "code",
   "execution_count": 9,
   "id": "42ecfe4c-a7a7-4315-9c4d-8905ed56edbb",
   "metadata": {},
   "outputs": [
    {
     "data": {
      "text/plain": [
       "array([1, 0, 1, 1, 1, 1, 0, 0, 0, 1, 0, 1, 0, 1, 1, 1, 1, 1, 1, 1, 1, 1,\n",
       "       1, 1, 1, 1, 1, 1, 1, 1, 0, 1, 1, 1, 1, 1, 0, 1, 0, 1, 1, 1, 1, 0,\n",
       "       1, 1, 1, 1, 1, 0, 1, 0, 1, 0, 1, 1, 1, 1, 1, 1, 1, 1, 0, 0, 0, 1,\n",
       "       0, 0, 0, 1, 0, 1, 1, 1, 0, 1, 0, 0, 1, 1, 1, 0, 1, 0, 0, 1, 0, 1,\n",
       "       0, 1, 0, 1, 1, 0, 0, 0, 0, 1, 0, 1, 1, 0, 0, 1, 0, 1, 1, 1, 0, 1,\n",
       "       1, 1, 1, 1])"
      ]
     },
     "execution_count": 9,
     "metadata": {},
     "output_type": "execute_result"
    }
   ],
   "source": [
    "predictions"
   ]
  },
  {
   "cell_type": "code",
   "execution_count": 10,
   "id": "2c05aed2-bb1b-48d7-b3fe-be232b7fa518",
   "metadata": {},
   "outputs": [
    {
     "data": {
      "text/plain": [
       "array([1, 1, 1, 1, 1, 1, 0, 0, 0, 1, 0, 0, 0, 1, 1, 1, 1, 1, 1, 1, 0, 1,\n",
       "       1, 1, 1, 1, 1, 1, 1, 1, 0, 1, 1, 1, 1, 1, 0, 1, 0, 1, 1, 0, 1, 0,\n",
       "       1, 1, 1, 1, 1, 0, 1, 1, 1, 0, 1, 1, 1, 1, 1, 1, 1, 1, 0, 0, 1, 1,\n",
       "       0, 0, 0, 1, 0, 0, 1, 1, 0, 1, 0, 0, 1, 1, 1, 0, 1, 0, 0, 1, 0, 1,\n",
       "       0, 1, 0, 1, 1, 0, 0, 0, 0, 1, 0, 1, 0, 0, 0, 1, 1, 0, 1, 1, 0, 1,\n",
       "       1, 1, 1, 1])"
      ]
     },
     "execution_count": 10,
     "metadata": {},
     "output_type": "execute_result"
    }
   ],
   "source": [
    "Y_test"
   ]
  },
  {
   "cell_type": "code",
   "execution_count": 11,
   "id": "194cdf77-9c06-45cf-b659-2be81159bb0b",
   "metadata": {},
   "outputs": [],
   "source": [
    "def accuracy(original, predicted):\n",
    "    acc = np.sum(original == predicted) / len(original)\n",
    "    return acc"
   ]
  },
  {
   "cell_type": "code",
   "execution_count": 12,
   "id": "360097c8-3373-47d1-a129-7ecd04440fbc",
   "metadata": {},
   "outputs": [
    {
     "data": {
      "text/plain": [
       "0.9122807017543859"
      ]
     },
     "execution_count": 12,
     "metadata": {},
     "output_type": "execute_result"
    }
   ],
   "source": [
    "acc = accuracy(Y_test, predictions)\n",
    "acc"
   ]
  },
  {
   "cell_type": "code",
   "execution_count": null,
   "id": "2d21f7c7-012a-4c43-b8a9-e8c588e78b9a",
   "metadata": {},
   "outputs": [],
   "source": []
  }
 ],
 "metadata": {
  "kernelspec": {
   "display_name": "Python 3 (ipykernel)",
   "language": "python",
   "name": "python3"
  },
  "language_info": {
   "codemirror_mode": {
    "name": "ipython",
    "version": 3
   },
   "file_extension": ".py",
   "mimetype": "text/x-python",
   "name": "python",
   "nbconvert_exporter": "python",
   "pygments_lexer": "ipython3",
   "version": "3.8.10"
  }
 },
 "nbformat": 4,
 "nbformat_minor": 5
}
