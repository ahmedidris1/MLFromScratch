{
 "cells": [
  {
   "cell_type": "code",
   "execution_count": 1,
   "id": "dacce7f7-cf9d-4bfd-97d3-082f24a10775",
   "metadata": {},
   "outputs": [],
   "source": [
    "import numpy as np\n",
    "from collections import Counter"
   ]
  },
  {
   "cell_type": "code",
   "execution_count": 2,
   "id": "b8aa5032-3e41-4145-b062-20e610d4689d",
   "metadata": {},
   "outputs": [],
   "source": [
    "def eucledian_distance(x1, x2):\n",
    "    return np.sqrt ( np.dot( (x1 - x2).T, (x1 - x2) ) )"
   ]
  },
  {
   "cell_type": "code",
   "execution_count": 3,
   "id": "19907827-96d5-46b7-910e-debbfc66c836",
   "metadata": {
    "tags": []
   },
   "outputs": [],
   "source": [
    "class KNN:\n",
    "    def __init__(self, k=3):\n",
    "        self.k = k\n",
    "        \n",
    "    def fit(self, X, Y):\n",
    "        self.X_train = X\n",
    "        self.Y_train = Y\n",
    "    \n",
    "    def predict(self, X):\n",
    "        predicted_labels = [self._predict(x) for x in X]\n",
    "        return np.array(predicted_labels)\n",
    "            \n",
    "    def _predict(self, x):\n",
    "        distances = np.array( [eucledian_distance(x, point) for point in self.X_train] )\n",
    "        indicies = np.argsort(distances)[:self.k]\n",
    "        knn_labels = Y_train[indicies]\n",
    "        most_common_label = Counter(list(knn_labels)).most_common(1)\n",
    "        return most_common_label[0][0]\n",
    "#         return max(list(knn_labels), key=knn.count)"
   ]
  },
  {
   "cell_type": "code",
   "execution_count": 4,
   "id": "ef954549-90db-4873-880b-e26d35cfff5d",
   "metadata": {},
   "outputs": [],
   "source": [
    "from sklearn.datasets import load_iris\n",
    "from sklearn.model_selection import train_test_split"
   ]
  },
  {
   "cell_type": "code",
   "execution_count": 5,
   "id": "7151f6d4-39af-45cf-8d88-642831b3db3a",
   "metadata": {},
   "outputs": [],
   "source": [
    "dataset = load_iris()\n",
    "X = dataset.data\n",
    "Y = dataset.target"
   ]
  },
  {
   "cell_type": "code",
   "execution_count": 6,
   "id": "8aa55690-b985-49ad-b8a6-a12e811c3bfd",
   "metadata": {},
   "outputs": [],
   "source": [
    "X_train, X_test, Y_train, Y_test = train_test_split(X, Y, test_size=.2, random_state=1234)"
   ]
  },
  {
   "cell_type": "code",
   "execution_count": 7,
   "id": "937af015-c4df-4fbd-8bba-919f2415072f",
   "metadata": {},
   "outputs": [],
   "source": [
    "knn_clf = KNN()"
   ]
  },
  {
   "cell_type": "code",
   "execution_count": 8,
   "id": "22d69edc-84b2-4cba-b71c-e17effd633fb",
   "metadata": {},
   "outputs": [],
   "source": [
    "knn_clf.fit(X_train, Y_train)"
   ]
  },
  {
   "cell_type": "code",
   "execution_count": 11,
   "id": "301dad7f-e0cb-4c79-be2c-40eddaaa80a0",
   "metadata": {},
   "outputs": [
    {
     "data": {
      "text/plain": [
       "array([1, 1, 2, 0, 1, 0, 0, 0, 1, 2, 1, 0, 2, 1, 0, 1, 2, 0, 2, 1, 1, 1,\n",
       "       1, 1, 2, 0, 2, 1, 2, 0])"
      ]
     },
     "execution_count": 11,
     "metadata": {},
     "output_type": "execute_result"
    }
   ],
   "source": [
    "predicted = knn_clf.predict(X_test)\n",
    "predicted"
   ]
  },
  {
   "cell_type": "code",
   "execution_count": 14,
   "id": "c1847007-0589-4b0c-b3f7-d5eb669ed745",
   "metadata": {},
   "outputs": [
    {
     "data": {
      "text/plain": [
       "array([1, 1, 2, 0, 1, 0, 0, 0, 1, 2, 1, 0, 2, 1, 0, 1, 2, 0, 2, 1, 1, 1,\n",
       "       1, 1, 2, 0, 2, 1, 2, 0])"
      ]
     },
     "execution_count": 14,
     "metadata": {},
     "output_type": "execute_result"
    }
   ],
   "source": [
    "Y_test"
   ]
  },
  {
   "cell_type": "code",
   "execution_count": 15,
   "id": "e1b92e67-bc67-4bee-a202-18183dc9f436",
   "metadata": {},
   "outputs": [],
   "source": [
    "accuracy = np.sum(predicted == Y_test) * 100 / len(Y_test)"
   ]
  },
  {
   "cell_type": "code",
   "execution_count": 17,
   "id": "16979003-ef8c-4b06-80f6-8ba805d81993",
   "metadata": {},
   "outputs": [
    {
     "name": "stdout",
     "output_type": "stream",
     "text": [
      "accuracy = 100.0%\n"
     ]
    }
   ],
   "source": [
    "print(f'accuracy = {accuracy}%')"
   ]
  },
  {
   "cell_type": "code",
   "execution_count": null,
   "id": "ab3bb023-d2a7-4219-923d-aae29814304c",
   "metadata": {},
   "outputs": [],
   "source": []
  }
 ],
 "metadata": {
  "kernelspec": {
   "display_name": "Python 3 (ipykernel)",
   "language": "python",
   "name": "python3"
  },
  "language_info": {
   "codemirror_mode": {
    "name": "ipython",
    "version": 3
   },
   "file_extension": ".py",
   "mimetype": "text/x-python",
   "name": "python",
   "nbconvert_exporter": "python",
   "pygments_lexer": "ipython3",
   "version": "3.8.10"
  }
 },
 "nbformat": 4,
 "nbformat_minor": 5
}
