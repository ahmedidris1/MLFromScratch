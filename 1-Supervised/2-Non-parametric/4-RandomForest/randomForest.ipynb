{
 "cells": [
  {
   "cell_type": "code",
   "execution_count": 1,
   "id": "2b1f9b59-6e66-4ead-a18e-6cdf2be5cd8a",
   "metadata": {},
   "outputs": [
    {
     "name": "stdout",
     "output_type": "stream",
     "text": [
      "importing Jupyter notebook from customized_DecisionTree.ipynb\n",
      "DecisionTree model accuracy = 92.1%\n"
     ]
    }
   ],
   "source": [
    "from collections import Counter\n",
    "import numpy as np\n",
    "import import_ipynb\n",
    "from customized_DecisionTree import DecisionTree, accuracy"
   ]
  },
  {
   "cell_type": "code",
   "execution_count": 2,
   "id": "9852b213-5595-477c-8f4d-d857dd7d8632",
   "metadata": {},
   "outputs": [],
   "source": [
    "class RandomForest:\n",
    "    def __init__(self, n_trees=10, min_sample_split=2, max_depth=100, n_random_features=None, mode='gini'):\n",
    "        self.n_trees = n_trees\n",
    "        self.min_sample_split = min_sample_split\n",
    "        self.max_depth = max_depth\n",
    "        self.n_random_features = n_random_features\n",
    "        self.mode = mode\n",
    "        \n",
    "        self.trees = []\n",
    "    \n",
    "    def fit(self, X, y):\n",
    "        self.trees = []\n",
    "        \n",
    "        for _ in range(self.n_trees):\n",
    "            tree = DecisionTree(min_sample_split=2, max_depth=100, n_random_features=None, mode='gini')\n",
    "            X_sampled, y_sampled = self._bootstrap_sample(X, y)\n",
    "            tree.fit(X_sampled, y_sampled)\n",
    "            self.trees.append(tree)\n",
    "    \n",
    "    def predict(self, X):\n",
    "        trees_predictions = [tree.predict(X) for tree in self.trees]\n",
    "        predictions_trees_element = np.swapaxes(trees_predictions, 0, 1) #predictions of all trees per each element\n",
    "        majority_vote = [self._most_common_label(element_predictions) for element_predictions in predictions_trees_element]\n",
    "        return np.array(majority_vote)\n",
    "    \n",
    "    def _bootstrap_sample(self, X, y):\n",
    "        n_samples = X.shape[0]\n",
    "        sampled_indices = np.random.choice(n_samples, n_samples, replace=True)\n",
    "        return X[sampled_indices], y[sampled_indices]\n",
    "    \n",
    "    def _most_common_label(self, y):\n",
    "        counter = Counter(y)\n",
    "        most_common_class = counter.most_common(1)[0][0]\n",
    "        return most_common_class"
   ]
  },
  {
   "cell_type": "code",
   "execution_count": 3,
   "id": "362626b2-7808-40ac-bffb-469164f7c307",
   "metadata": {},
   "outputs": [],
   "source": [
    "from sklearn import datasets\n",
    "from sklearn.model_selection import train_test_split"
   ]
  },
  {
   "cell_type": "code",
   "execution_count": 4,
   "id": "5b63c119-94ed-4427-b8a6-9b03120d4f8e",
   "metadata": {},
   "outputs": [],
   "source": [
    "dataset = datasets.load_breast_cancer()\n",
    "X, y = dataset.data, dataset.target"
   ]
  },
  {
   "cell_type": "code",
   "execution_count": 5,
   "id": "318ad515-6d52-4f1f-917c-55d7b08f89d9",
   "metadata": {},
   "outputs": [],
   "source": [
    "X_train, X_test, y_train, y_test = train_test_split(X, y, test_size=.2, random_state=42)"
   ]
  },
  {
   "cell_type": "code",
   "execution_count": 6,
   "id": "fd6939ae-6f7a-47a1-a8aa-f11303ef746e",
   "metadata": {},
   "outputs": [],
   "source": [
    "clf = RandomForest(n_trees=3, max_depth=10)\n",
    "clf.fit(X_train, y_train)"
   ]
  },
  {
   "cell_type": "code",
   "execution_count": 7,
   "id": "244228d0-1d2c-462a-a161-311129f69f30",
   "metadata": {},
   "outputs": [],
   "source": [
    "y_predicted = clf.predict(X_test)"
   ]
  },
  {
   "cell_type": "code",
   "execution_count": 8,
   "id": "a0ef2e9f-fd71-4009-96ae-7d43c7c1e2ff",
   "metadata": {},
   "outputs": [],
   "source": [
    "acc = accuracy(y_test, y_predicted)"
   ]
  },
  {
   "cell_type": "code",
   "execution_count": 9,
   "id": "9e81200b-68f1-46ab-8415-a08d58c1fc5b",
   "metadata": {},
   "outputs": [
    {
     "name": "stdout",
     "output_type": "stream",
     "text": [
      "accuracy = 93.9%\n"
     ]
    }
   ],
   "source": [
    "print(f'accuracy = {acc*100:.1f}%')"
   ]
  },
  {
   "cell_type": "code",
   "execution_count": null,
   "id": "2c4f4f18-8341-4178-9aaa-538f0871386a",
   "metadata": {},
   "outputs": [],
   "source": []
  }
 ],
 "metadata": {
  "kernelspec": {
   "display_name": "Python 3 (ipykernel)",
   "language": "python",
   "name": "python3"
  },
  "language_info": {
   "codemirror_mode": {
    "name": "ipython",
    "version": 3
   },
   "file_extension": ".py",
   "mimetype": "text/x-python",
   "name": "python",
   "nbconvert_exporter": "python",
   "pygments_lexer": "ipython3",
   "version": "3.8.10"
  }
 },
 "nbformat": 4,
 "nbformat_minor": 5
}
