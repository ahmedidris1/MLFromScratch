{
 "cells": [
  {
   "cell_type": "code",
   "execution_count": 1,
   "id": "993f303c-9a7d-4620-9f93-ad401165722e",
   "metadata": {},
   "outputs": [],
   "source": [
    "import numpy as np\n",
    "from collections import Counter"
   ]
  },
  {
   "cell_type": "code",
   "execution_count": 2,
   "id": "0d3cbc55-8c36-4a91-aeac-1d01596b6984",
   "metadata": {},
   "outputs": [],
   "source": [
    "# rerwite decission tree Algorithm with an option of selecting a random number of features\n",
    "\n",
    "class node:\n",
    "    def __init__(self, feature=None, threshold=None, left=None, right=None, *, value=None):\n",
    "        self.feature = feature\n",
    "        self.threshold = threshold\n",
    "        self.left = left\n",
    "        self.right = right\n",
    "        self.value = value\n",
    "        \n",
    "    @property    \n",
    "    def is_leaf_node(self):\n",
    "        return self.value is not None"
   ]
  },
  {
   "cell_type": "code",
   "execution_count": 3,
   "id": "5eed16de-8233-45d6-9b0c-f63b5c7c67f1",
   "metadata": {},
   "outputs": [],
   "source": [
    "class DecisionTree:\n",
    "    def __init__(self, min_sample_split=2, max_depth=100, n_random_features=None, mode='gini'):\n",
    "        self.min_sample_split = min_sample_split\n",
    "        self.max_depth = max_depth\n",
    "        self.n_random_features = n_random_features\n",
    "        self.mode = mode\n",
    "        \n",
    "        self.root = None\n",
    "\n",
    "\n",
    "    def fit(self, X, y):\n",
    "        self.n_random_features = X.shape[1] if not self.n_random_features else min(self.n_random_features, X.shape[1])\n",
    "        self.root = self._build_tree(X, y)\n",
    "\n",
    "\n",
    "    def predict(self, X):\n",
    "        return np.array([self._traverse_tree(x, self.root) for x in X])\n",
    "\n",
    "\n",
    "    def _build_tree(self, X, y, depth=0):\n",
    "        n_samples, n_features = X.shape\n",
    "        n_labels = len(np.unique(y))\n",
    "\n",
    "        if(depth >= self.max_depth or n_samples < self.min_sample_split or n_labels == 1):\n",
    "            leaf_value = self._most_common_class(y)\n",
    "            return node(value=leaf_value)\n",
    "\n",
    "        features_indices = np.random.choice(n_features, self.n_random_features, replace=False)\n",
    "\n",
    "        best_split_feature, best_split_threshold = self._best_split(X, y, features_indices)\n",
    "\n",
    "        left_indices, right_indices = self._split(X[:, best_split_feature], best_split_threshold)\n",
    "\n",
    "        left = self._build_tree(X[left_indices, :], y[left_indices], depth+1)\n",
    "        right = self._build_tree(X[right_indices, :], y[right_indices], depth+1)\n",
    "\n",
    "        return node(best_split_feature, best_split_threshold, left, right)\n",
    "\n",
    "\n",
    "    def _best_split(self, X, y, features_indices):\n",
    "        best_gain = -float('inf')\n",
    "        split_index, split_threshold = None, None\n",
    "\n",
    "        for index in features_indices:\n",
    "            feature_column = X[:, index]\n",
    "            thresholds = np.unique(feature_column)\n",
    "            for threshold in thresholds:\n",
    "                gain = self._information_gain(feature_column, threshold, y, self.mode)\n",
    "\n",
    "                if gain > best_gain:\n",
    "                    best_gain = gain\n",
    "                    split_index = index\n",
    "                    split_threshold = threshold\n",
    "\n",
    "        return split_index, split_threshold\n",
    "\n",
    "\n",
    "    def _information_gain(self, feature_column, threshold, y, mode):\n",
    "        left_split_indices, right_split_indices = self._split(feature_column, threshold)\n",
    "\n",
    "        if len(left_split_indices) == 0 or len(right_split_indices) == 0:\n",
    "            return 0\n",
    "\n",
    "        n_elements_left, n_elements_right = len(left_split_indices), len(right_split_indices)\n",
    "        n_total_elements = len(y)\n",
    "\n",
    "        left_weight = n_elements_left / n_total_elements\n",
    "        right_weight = n_elements_right / n_total_elements\n",
    "\n",
    "        if mode == 'entropy':\n",
    "            parent_entropy = self._entropy(y)\n",
    "            entropy_left, entropy_right = self._entropy(y[left_split_indices]), self._entropy(y[right_split_indices])\n",
    "            child_entropy = left_weight*entropy_left + right_weight*entropy_right\n",
    "            info_gain = parent_entropy - child_entropy\n",
    "\n",
    "            return info_gain\n",
    "\n",
    "        parent_gini = self._gini(y)\n",
    "        gini_left, gini_right = self._gini(y[left_split_indices]), self._gini(y[right_split_indices])\n",
    "        child_gini = left_weight*gini_left + right_weight*gini_right\n",
    "        info_gain = parent_gini - child_gini\n",
    "\n",
    "        return info_gain\n",
    "\n",
    "\n",
    "    def _split(self, feature_column, threshold):\n",
    "        left_split_indices = np.argwhere(feature_column <= threshold).flatten()\n",
    "        right_split_indices = np.argwhere(feature_column > threshold).flatten()\n",
    "        return left_split_indices, right_split_indices\n",
    "\n",
    "    \n",
    "    def _most_common_class(self, y):\n",
    "        counter = Counter(y)\n",
    "        common_label = counter.most_common(1)[0][0]\n",
    "        return common_label\n",
    "    \n",
    "\n",
    "    def _entropy(self, y):\n",
    "        histogram = np.bincount(y)\n",
    "        classes_probs = histogram / len(y)\n",
    "        return -np.sum([prob*np.log2(prob) for prob in classes_probs if prob > 0])\n",
    "\n",
    "\n",
    "    def _gini(self, y):\n",
    "        histogram = np.bincount(y)\n",
    "        classes_probs = histogram / len(y)\n",
    "        return 1 - np.sum(classes_probs**2)\n",
    "\n",
    "    \n",
    "    def _traverse_tree(self, x, node):\n",
    "        if node.is_leaf_node:\n",
    "            return node.value\n",
    "\n",
    "        if x[node.feature] <= node.threshold:\n",
    "            return self._traverse_tree(x, node.left)\n",
    "        return self._traverse_tree(x, node.right)"
   ]
  },
  {
   "cell_type": "code",
   "execution_count": 4,
   "id": "9eeed0b7-3e29-4e3b-be9e-00cd39ff4ca7",
   "metadata": {},
   "outputs": [],
   "source": [
    "from sklearn import datasets\n",
    "from sklearn.model_selection import train_test_split"
   ]
  },
  {
   "cell_type": "code",
   "execution_count": 5,
   "id": "53de91ed-2744-47fb-8e75-8b67a24ea425",
   "metadata": {},
   "outputs": [],
   "source": [
    "dataset = datasets.load_breast_cancer()\n",
    "X, y = dataset.data, dataset.target\n",
    "\n",
    "X_train, X_test, y_train, y_test = train_test_split(X, y, test_size=.2)"
   ]
  },
  {
   "cell_type": "code",
   "execution_count": 6,
   "id": "c1609e93-05d3-4303-92a7-e27b6e667e45",
   "metadata": {},
   "outputs": [],
   "source": [
    "def accuracy(original, predicted):\n",
    "    return np.sum(original == predicted) / len(original)"
   ]
  },
  {
   "cell_type": "code",
   "execution_count": 7,
   "id": "2d283de1-53b2-44b2-99d9-551c11827c05",
   "metadata": {},
   "outputs": [],
   "source": [
    "clf = DecisionTree(max_depth=5)"
   ]
  },
  {
   "cell_type": "code",
   "execution_count": 8,
   "id": "d2d9164d-8b27-439a-b1ec-a4ca502452b6",
   "metadata": {},
   "outputs": [],
   "source": [
    "clf.fit(X_train, y_train)"
   ]
  },
  {
   "cell_type": "code",
   "execution_count": 9,
   "id": "fd7b8d72-7e35-4211-beff-ba73893a1576",
   "metadata": {},
   "outputs": [],
   "source": [
    "y_predicted = clf.predict(X_test)"
   ]
  },
  {
   "cell_type": "code",
   "execution_count": 10,
   "id": "a4b162f4-34b2-45df-8753-0045d9c33965",
   "metadata": {},
   "outputs": [],
   "source": [
    "acc = accuracy(y_test, y_predicted)"
   ]
  },
  {
   "cell_type": "code",
   "execution_count": 11,
   "id": "a731a11b-b99f-4d09-b5b7-6fb1f6c544f3",
   "metadata": {},
   "outputs": [
    {
     "name": "stdout",
     "output_type": "stream",
     "text": [
      "DecisionTree model accuracy = 93.9%\n"
     ]
    }
   ],
   "source": [
    "print(f'DecisionTree model accuracy = {acc*100:.1f}%')"
   ]
  },
  {
   "cell_type": "code",
   "execution_count": 12,
   "id": "d1f72dea-10e6-4276-855e-4ac787042db4",
   "metadata": {},
   "outputs": [],
   "source": [
    "# print('customized_DecisionTree.ipynb')"
   ]
  },
  {
   "cell_type": "code",
   "execution_count": null,
   "id": "b3132afe-13b6-4339-964c-cefc16c1ea52",
   "metadata": {},
   "outputs": [],
   "source": []
  }
 ],
 "metadata": {
  "kernelspec": {
   "display_name": "Python 3 (ipykernel)",
   "language": "python",
   "name": "python3"
  },
  "language_info": {
   "codemirror_mode": {
    "name": "ipython",
    "version": 3
   },
   "file_extension": ".py",
   "mimetype": "text/x-python",
   "name": "python",
   "nbconvert_exporter": "python",
   "pygments_lexer": "ipython3",
   "version": "3.8.10"
  }
 },
 "nbformat": 4,
 "nbformat_minor": 5
}
