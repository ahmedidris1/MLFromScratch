{
 "cells": [
  {
   "cell_type": "code",
   "execution_count": 1,
   "id": "768f0ab0-72fe-4a65-9c7b-ecbe58ebc647",
   "metadata": {},
   "outputs": [],
   "source": [
    "import numpy as np\n",
    "import pandas as pd\n",
    "import matplotlib.pyplot as plt\n",
    "import seaborn as sns\n",
    "sns.set_style(\"darkgrid\")"
   ]
  },
  {
   "cell_type": "code",
   "execution_count": 2,
   "id": "697ff1c5-1834-4824-8223-6710a8c18cc8",
   "metadata": {},
   "outputs": [
    {
     "data": {
      "text/html": [
       "<div>\n",
       "<style scoped>\n",
       "    .dataframe tbody tr th:only-of-type {\n",
       "        vertical-align: middle;\n",
       "    }\n",
       "\n",
       "    .dataframe tbody tr th {\n",
       "        vertical-align: top;\n",
       "    }\n",
       "\n",
       "    .dataframe thead th {\n",
       "        text-align: right;\n",
       "    }\n",
       "</style>\n",
       "<table border=\"1\" class=\"dataframe\">\n",
       "  <thead>\n",
       "    <tr style=\"text-align: right;\">\n",
       "      <th></th>\n",
       "      <th>mean_radius</th>\n",
       "      <th>mean_texture</th>\n",
       "      <th>mean_perimeter</th>\n",
       "      <th>mean_area</th>\n",
       "      <th>mean_smoothness</th>\n",
       "      <th>diagnosis</th>\n",
       "    </tr>\n",
       "  </thead>\n",
       "  <tbody>\n",
       "    <tr>\n",
       "      <th>0</th>\n",
       "      <td>17.99</td>\n",
       "      <td>10.38</td>\n",
       "      <td>122.80</td>\n",
       "      <td>1001.0</td>\n",
       "      <td>0.11840</td>\n",
       "      <td>0</td>\n",
       "    </tr>\n",
       "    <tr>\n",
       "      <th>1</th>\n",
       "      <td>20.57</td>\n",
       "      <td>17.77</td>\n",
       "      <td>132.90</td>\n",
       "      <td>1326.0</td>\n",
       "      <td>0.08474</td>\n",
       "      <td>0</td>\n",
       "    </tr>\n",
       "    <tr>\n",
       "      <th>2</th>\n",
       "      <td>19.69</td>\n",
       "      <td>21.25</td>\n",
       "      <td>130.00</td>\n",
       "      <td>1203.0</td>\n",
       "      <td>0.10960</td>\n",
       "      <td>0</td>\n",
       "    </tr>\n",
       "    <tr>\n",
       "      <th>3</th>\n",
       "      <td>11.42</td>\n",
       "      <td>20.38</td>\n",
       "      <td>77.58</td>\n",
       "      <td>386.1</td>\n",
       "      <td>0.14250</td>\n",
       "      <td>0</td>\n",
       "    </tr>\n",
       "    <tr>\n",
       "      <th>4</th>\n",
       "      <td>20.29</td>\n",
       "      <td>14.34</td>\n",
       "      <td>135.10</td>\n",
       "      <td>1297.0</td>\n",
       "      <td>0.10030</td>\n",
       "      <td>0</td>\n",
       "    </tr>\n",
       "  </tbody>\n",
       "</table>\n",
       "</div>"
      ],
      "text/plain": [
       "   mean_radius  mean_texture  mean_perimeter  mean_area  mean_smoothness  \\\n",
       "0        17.99         10.38          122.80     1001.0          0.11840   \n",
       "1        20.57         17.77          132.90     1326.0          0.08474   \n",
       "2        19.69         21.25          130.00     1203.0          0.10960   \n",
       "3        11.42         20.38           77.58      386.1          0.14250   \n",
       "4        20.29         14.34          135.10     1297.0          0.10030   \n",
       "\n",
       "   diagnosis  \n",
       "0          0  \n",
       "1          0  \n",
       "2          0  \n",
       "3          0  \n",
       "4          0  "
      ]
     },
     "execution_count": 2,
     "metadata": {},
     "output_type": "execute_result"
    }
   ],
   "source": [
    "file_src = 'data/Breast_cancer_data.csv'\n",
    "dataset = pd.read_csv(file_src)\n",
    "dataset.head()"
   ]
  },
  {
   "cell_type": "code",
   "execution_count": 3,
   "id": "bf66b384-ada2-4369-b051-9608ef46260f",
   "metadata": {},
   "outputs": [
    {
     "data": {
      "text/plain": [
       "<AxesSubplot:>"
      ]
     },
     "execution_count": 3,
     "metadata": {},
     "output_type": "execute_result"
    },
    {
     "data": {
      "image/png": "[encoded data removed]",
      "text/plain": [
       "<Figure size 432x288 with 1 Axes>"
      ]
     },
     "metadata": {},
     "output_type": "display_data"
    }
   ],
   "source": [
    "dataset['diagnosis'].hist()"
   ]
  },
  {
   "cell_type": "code",
   "execution_count": 4,
   "id": "1b8eda15-d9cc-4152-8a01-5cde528433c2",
   "metadata": {},
   "outputs": [
    {
     "data": {
      "text/plain": [
       "<AxesSubplot:>"
      ]
     },
     "execution_count": 4,
     "metadata": {},
     "output_type": "execute_result"
    },
    {
     "data": {
      "image/png": "[encoded data removed]",
      "text/plain": [
       "<Figure size 432x288 with 2 Axes>"
      ]
     },
     "metadata": {},
     "output_type": "display_data"
    }
   ],
   "source": [
    "correlation = dataset.iloc[:, :-1].corr(method=\"pearson\")\n",
    "cmap = sns.diverging_palette(250,354,80,60,center='dark',as_cmap=True)\n",
    "sns.heatmap(correlation, vmax=1, vmin=-.5, cmap=cmap, square=True, linewidths=.2)"
   ]
  },
  {
   "cell_type": "code",
   "execution_count": 5,
   "id": "77805db1-f261-4a6d-8270-7e6268d7dca9",
   "metadata": {},
   "outputs": [],
   "source": [
    "dataset = dataset[['mean_radius', 'mean_texture', 'mean_smoothness', 'diagnosis']]"
   ]
  },
  {
   "cell_type": "code",
   "execution_count": 6,
   "id": "334bb6e9-77db-4140-a826-79e1a64323ae",
   "metadata": {},
   "outputs": [
    {
     "data": {
      "text/html": [
       "<div>\n",
       "<style scoped>\n",
       "    .dataframe tbody tr th:only-of-type {\n",
       "        vertical-align: middle;\n",
       "    }\n",
       "\n",
       "    .dataframe tbody tr th {\n",
       "        vertical-align: top;\n",
       "    }\n",
       "\n",
       "    .dataframe thead th {\n",
       "        text-align: right;\n",
       "    }\n",
       "</style>\n",
       "<table border=\"1\" class=\"dataframe\">\n",
       "  <thead>\n",
       "    <tr style=\"text-align: right;\">\n",
       "      <th></th>\n",
       "      <th>mean_radius</th>\n",
       "      <th>mean_texture</th>\n",
       "      <th>mean_smoothness</th>\n",
       "      <th>diagnosis</th>\n",
       "    </tr>\n",
       "  </thead>\n",
       "  <tbody>\n",
       "    <tr>\n",
       "      <th>0</th>\n",
       "      <td>17.99</td>\n",
       "      <td>10.38</td>\n",
       "      <td>0.11840</td>\n",
       "      <td>0</td>\n",
       "    </tr>\n",
       "    <tr>\n",
       "      <th>1</th>\n",
       "      <td>20.57</td>\n",
       "      <td>17.77</td>\n",
       "      <td>0.08474</td>\n",
       "      <td>0</td>\n",
       "    </tr>\n",
       "    <tr>\n",
       "      <th>2</th>\n",
       "      <td>19.69</td>\n",
       "      <td>21.25</td>\n",
       "      <td>0.10960</td>\n",
       "      <td>0</td>\n",
       "    </tr>\n",
       "    <tr>\n",
       "      <th>3</th>\n",
       "      <td>11.42</td>\n",
       "      <td>20.38</td>\n",
       "      <td>0.14250</td>\n",
       "      <td>0</td>\n",
       "    </tr>\n",
       "    <tr>\n",
       "      <th>4</th>\n",
       "      <td>20.29</td>\n",
       "      <td>14.34</td>\n",
       "      <td>0.10030</td>\n",
       "      <td>0</td>\n",
       "    </tr>\n",
       "    <tr>\n",
       "      <th>...</th>\n",
       "      <td>...</td>\n",
       "      <td>...</td>\n",
       "      <td>...</td>\n",
       "      <td>...</td>\n",
       "    </tr>\n",
       "    <tr>\n",
       "      <th>564</th>\n",
       "      <td>21.56</td>\n",
       "      <td>22.39</td>\n",
       "      <td>0.11100</td>\n",
       "      <td>0</td>\n",
       "    </tr>\n",
       "    <tr>\n",
       "      <th>565</th>\n",
       "      <td>20.13</td>\n",
       "      <td>28.25</td>\n",
       "      <td>0.09780</td>\n",
       "      <td>0</td>\n",
       "    </tr>\n",
       "    <tr>\n",
       "      <th>566</th>\n",
       "      <td>16.60</td>\n",
       "      <td>28.08</td>\n",
       "      <td>0.08455</td>\n",
       "      <td>0</td>\n",
       "    </tr>\n",
       "    <tr>\n",
       "      <th>567</th>\n",
       "      <td>20.60</td>\n",
       "      <td>29.33</td>\n",
       "      <td>0.11780</td>\n",
       "      <td>0</td>\n",
       "    </tr>\n",
       "    <tr>\n",
       "      <th>568</th>\n",
       "      <td>7.76</td>\n",
       "      <td>24.54</td>\n",
       "      <td>0.05263</td>\n",
       "      <td>1</td>\n",
       "    </tr>\n",
       "  </tbody>\n",
       "</table>\n",
       "<p>569 rows × 4 columns</p>\n",
       "</div>"
      ],
      "text/plain": [
       "     mean_radius  mean_texture  mean_smoothness  diagnosis\n",
       "0          17.99         10.38          0.11840          0\n",
       "1          20.57         17.77          0.08474          0\n",
       "2          19.69         21.25          0.10960          0\n",
       "3          11.42         20.38          0.14250          0\n",
       "4          20.29         14.34          0.10030          0\n",
       "..           ...           ...              ...        ...\n",
       "564        21.56         22.39          0.11100          0\n",
       "565        20.13         28.25          0.09780          0\n",
       "566        16.60         28.08          0.08455          0\n",
       "567        20.60         29.33          0.11780          0\n",
       "568         7.76         24.54          0.05263          1\n",
       "\n",
       "[569 rows x 4 columns]"
      ]
     },
     "execution_count": 6,
     "metadata": {},
     "output_type": "execute_result"
    }
   ],
   "source": [
    "dataset"
   ]
  },
  {
   "cell_type": "code",
   "execution_count": 7,
   "id": "c9d8a1b0-9e77-4326-abd4-02785552ad4e",
   "metadata": {},
   "outputs": [
    {
     "data": {
      "text/plain": [
       "<AxesSubplot:xlabel='mean_smoothness', ylabel='Count'>"
      ]
     },
     "execution_count": 7,
     "metadata": {},
     "output_type": "execute_result"
    },
    {
     "data": {
      "image/png": "[encoded data removed]",
      "text/plain": [
       "<Figure size 1296x432 with 3 Axes>"
      ]
     },
     "metadata": {},
     "output_type": "display_data"
    }
   ],
   "source": [
    "fig, axes = plt.subplots(1, 3, figsize=(18, 6), sharey=True)\n",
    "sns.histplot(dataset, ax=axes[0], x=\"mean_radius\", kde=True, color=\"r\")\n",
    "sns.histplot(dataset, ax=axes[1], x=\"mean_texture\", kde=True, color=\"b\")\n",
    "sns.histplot(dataset, ax=axes[2], x=\"mean_smoothness\", kde=True, color=\"r\")"
   ]
  },
  {
   "cell_type": "code",
   "execution_count": 8,
   "id": "ec8ef259-506c-41b1-90e4-c907e0d7445d",
   "metadata": {},
   "outputs": [
    {
     "data": {
      "text/html": [
       "<div>\n",
       "<style scoped>\n",
       "    .dataframe tbody tr th:only-of-type {\n",
       "        vertical-align: middle;\n",
       "    }\n",
       "\n",
       "    .dataframe tbody tr th {\n",
       "        vertical-align: top;\n",
       "    }\n",
       "\n",
       "    .dataframe thead th {\n",
       "        text-align: right;\n",
       "    }\n",
       "</style>\n",
       "<table border=\"1\" class=\"dataframe\">\n",
       "  <thead>\n",
       "    <tr style=\"text-align: right;\">\n",
       "      <th></th>\n",
       "      <th>categorized_mean_radius</th>\n",
       "      <th>categorized_mean_texture</th>\n",
       "      <th>categorized_mean_smoothness</th>\n",
       "      <th>diagnosis</th>\n",
       "    </tr>\n",
       "  </thead>\n",
       "  <tbody>\n",
       "    <tr>\n",
       "      <th>0</th>\n",
       "      <td>1</td>\n",
       "      <td>0</td>\n",
       "      <td>1</td>\n",
       "      <td>0</td>\n",
       "    </tr>\n",
       "    <tr>\n",
       "      <th>1</th>\n",
       "      <td>1</td>\n",
       "      <td>0</td>\n",
       "      <td>0</td>\n",
       "      <td>0</td>\n",
       "    </tr>\n",
       "    <tr>\n",
       "      <th>2</th>\n",
       "      <td>1</td>\n",
       "      <td>1</td>\n",
       "      <td>1</td>\n",
       "      <td>0</td>\n",
       "    </tr>\n",
       "    <tr>\n",
       "      <th>3</th>\n",
       "      <td>0</td>\n",
       "      <td>1</td>\n",
       "      <td>2</td>\n",
       "      <td>0</td>\n",
       "    </tr>\n",
       "    <tr>\n",
       "      <th>4</th>\n",
       "      <td>1</td>\n",
       "      <td>0</td>\n",
       "      <td>1</td>\n",
       "      <td>0</td>\n",
       "    </tr>\n",
       "  </tbody>\n",
       "</table>\n",
       "</div>"
      ],
      "text/plain": [
       "  categorized_mean_radius categorized_mean_texture  \\\n",
       "0                       1                        0   \n",
       "1                       1                        0   \n",
       "2                       1                        1   \n",
       "3                       0                        1   \n",
       "4                       1                        0   \n",
       "\n",
       "  categorized_mean_smoothness  diagnosis  \n",
       "0                           1          0  \n",
       "1                           0          0  \n",
       "2                           1          0  \n",
       "3                           2          0  \n",
       "4                           1          0  "
      ]
     },
     "execution_count": 8,
     "metadata": {},
     "output_type": "execute_result"
    }
   ],
   "source": [
    "dataset['categorized_mean_radius'] = pd.cut(dataset[\"mean_radius\"].values, bins=3, labels=[0,1,2])\n",
    "dataset['categorized_mean_texture'] = pd.cut(dataset[\"mean_texture\"].values, bins=3, labels=[0,1,2])\n",
    "dataset['categorized_mean_smoothness'] = pd.cut(dataset[\"mean_smoothness\"].values, bins=3, labels=[0,1,2])\n",
    "\n",
    "dataset.drop(columns=[\"mean_radius\", \"mean_texture\", \"mean_smoothness\"])\n",
    "dataset = dataset[[\"categorized_mean_radius\", \"categorized_mean_texture\", \"categorized_mean_smoothness\", \"diagnosis\"]]\n",
    "dataset.head(5)"
   ]
  },
  {
   "cell_type": "markdown",
   "id": "a8a27f4a-5f41-49c5-83ae-ebe344f14039",
   "metadata": {},
   "source": [
    "### calculate P(Y|X) for all possible y"
   ]
  },
  {
   "cell_type": "code",
   "execution_count": 9,
   "id": "1ec4851d-98e7-4e23-95d7-9d7d9d82dca8",
   "metadata": {},
   "outputs": [],
   "source": [
    "def calculate_prior(dataset, y):\n",
    "    y_classes = sorted( list( dataset[y].unique() ) )\n",
    "    priors = []\n",
    "    for _class in y_classes:\n",
    "        class_condition = (dataset[y] == _class)\n",
    "        priors.append( len(dataset[class_condition])/len(dataset) )\n",
    "    return priors"
   ]
  },
  {
   "cell_type": "markdown",
   "id": "e09e8e6d-4be4-4160-972f-a19c7cb11923",
   "metadata": {},
   "source": [
    "### Calculate the likelihood P(X=x|Y=y) using Gausian distribution"
   ]
  },
  {
   "cell_type": "code",
   "execution_count": 10,
   "id": "d097341e-2c8b-48d5-a5dc-80f3828d6c96",
   "metadata": {},
   "outputs": [],
   "source": [
    "def calculate_likelihood_ndist(dataset, feature_name, feature_value, Y, Y_label):\n",
    "    dataset = dataset[dataset[Y] == Y_label]\n",
    "    p_x_given_y = len(dataset[dataset[feature_name] == feature_value]) / len(dataset)\n",
    "    return p_x_given_y"
   ]
  },
  {
   "cell_type": "markdown",
   "id": "b7e3a790-d48c-40de-b086-15dfecc98c1c",
   "metadata": {},
   "source": [
    "### Calculate P(X=x1|Y=y)P(X=x2|Y=y)...P(X=xn|Y=y) and select the maximum"
   ]
  },
  {
   "cell_type": "code",
   "execution_count": 11,
   "id": "7a8486d7-16fd-42fb-9556-7beb9038bdd1",
   "metadata": {},
   "outputs": [],
   "source": [
    "def naive_bayes_classifier_gaussian(dataset, X, Y):\n",
    "    features = (dataset.columns)[:-1]\n",
    "    priors = calculate_prior(dataset, Y)\n",
    "    \n",
    "    Y_predicted = []\n",
    "    \n",
    "    for x in X:\n",
    "        Y_labels = list(dataset[Y].unique())\n",
    "        likelihood = [1]*len(Y_labels)\n",
    "        \n",
    "        for j in range(len(Y_labels)):\n",
    "            for i in range(len(features)):\n",
    "                likelihood[j] *= calculate_likelihood_ndist(dataset, features[i], x[i], Y, Y_labels[j])\n",
    "                \n",
    "        post_prob = [1] * len(Y_labels)\n",
    "        for i in range(len(Y_labels)):\n",
    "            post_prob[i] = priors[i] * likelihood[i]\n",
    "            \n",
    "        Y_predicted.append(np.argmax(post_prob))\n",
    "        \n",
    "    return Y_predicted"
   ]
  },
  {
   "cell_type": "code",
   "execution_count": 12,
   "id": "376a6269-787f-4152-9eb8-444282d62e44",
   "metadata": {},
   "outputs": [],
   "source": [
    "def confusion_matrix(truth, predicted):\n",
    "    tp = len(truth[predicted == 1])\n",
    "    tn = len(truth[predicted == 0])\n",
    "    fp = np.sum(truth[(truth == 0) & (predicted == 1)].any())\n",
    "    fn = np.sum(truth[(truth == 1) & (predicted == 0)].any())\n",
    "    \n",
    "    return np.array([[tp, fp], [fn, tn]])"
   ]
  },
  {
   "cell_type": "code",
   "execution_count": 13,
   "id": "dde71214-1a7d-4c00-8478-7a9999af1f2b",
   "metadata": {},
   "outputs": [],
   "source": [
    "from sklearn.model_selection import train_test_split\n",
    "train, test = train_test_split(dataset, test_size=.2, random_state=41)\n",
    "\n",
    "X_test = test.iloc[:, :-1].values\n",
    "Y_test = test.iloc[:, -1].values\n",
    "\n",
    "Y_predicted = naive_bayes_classifier_gaussian(train, X_test, Y=\"diagnosis\")"
   ]
  },
  {
   "cell_type": "code",
   "execution_count": 14,
   "id": "d7bc4771-0a4e-459c-aec3-e19e17cc2499",
   "metadata": {},
   "outputs": [
    {
     "data": {
      "text/plain": [
       "array([[50,  0],\n",
       "       [ 1, 64]])"
      ]
     },
     "execution_count": 14,
     "metadata": {},
     "output_type": "execute_result"
    }
   ],
   "source": [
    "predicted = np.array(Y_predicted)\n",
    "conf_matrix = confusion_matrix(Y_test, predicted)\n",
    "conf_matrix"
   ]
  },
  {
   "cell_type": "code",
   "execution_count": 15,
   "id": "dcbda7ce-2487-4547-9378-d85c2197a943",
   "metadata": {},
   "outputs": [
    {
     "data": {
      "text/plain": [
       "[50, 0, 1, 64]"
      ]
     },
     "execution_count": 15,
     "metadata": {},
     "output_type": "execute_result"
    }
   ],
   "source": [
    "list(conf_matrix.ravel())"
   ]
  },
  {
   "cell_type": "code",
   "execution_count": 16,
   "id": "a72b20d0-389c-4f7b-9616-d9dd6ec7575d",
   "metadata": {},
   "outputs": [],
   "source": [
    "def accuracy(tp, fp, fn, tn):\n",
    "    recall = tp / (tp + fn)\n",
    "    precision = tp / (tp + fp)\n",
    "    f1_score = 2*precision*recall/ (precision+recall)\n",
    "    \n",
    "    return recall, precision, f1_score"
   ]
  },
  {
   "cell_type": "code",
   "execution_count": 17,
   "id": "a36a061a-791c-4a83-803c-55c79492ee84",
   "metadata": {},
   "outputs": [],
   "source": [
    "tp, fp, fn, tn = list(conf_matrix.ravel())\n",
    "recall, precision, f1_score = accuracy(tp, fp, fn, tn)"
   ]
  },
  {
   "cell_type": "code",
   "execution_count": 18,
   "id": "29221f88-d889-4974-8571-60231c42f616",
   "metadata": {},
   "outputs": [
    {
     "data": {
      "text/plain": [
       "0.9803921568627451"
      ]
     },
     "execution_count": 18,
     "metadata": {},
     "output_type": "execute_result"
    }
   ],
   "source": [
    "recall"
   ]
  },
  {
   "cell_type": "code",
   "execution_count": 19,
   "id": "0b4efa98-9d02-4f92-a8f5-848f896c8d07",
   "metadata": {},
   "outputs": [
    {
     "data": {
      "text/plain": [
       "1.0"
      ]
     },
     "execution_count": 19,
     "metadata": {},
     "output_type": "execute_result"
    }
   ],
   "source": [
    "precision"
   ]
  },
  {
   "cell_type": "code",
   "execution_count": 20,
   "id": "ebd5b653-f507-4563-aadb-056e7c0ff8a4",
   "metadata": {},
   "outputs": [
    {
     "data": {
      "text/plain": [
       "0.99009900990099"
      ]
     },
     "execution_count": 20,
     "metadata": {},
     "output_type": "execute_result"
    }
   ],
   "source": [
    "f1_score"
   ]
  },
  {
   "cell_type": "code",
   "execution_count": null,
   "id": "f4da7c7f-0d10-422b-bb1c-239caab1730f",
   "metadata": {},
   "outputs": [],
   "source": []
  }
 ],
 "metadata": {
  "kernelspec": {
   "display_name": "Python 3 (ipykernel)",
   "language": "python",
   "name": "python3"
  },
  "language_info": {
   "codemirror_mode": {
    "name": "ipython",
    "version": 3
   },
   "file_extension": ".py",
   "mimetype": "text/x-python",
   "name": "python",
   "nbconvert_exporter": "python",
   "pygments_lexer": "ipython3",
   "version": "3.8.10"
  }
 },
 "nbformat": 4,
 "nbformat_minor": 5
}
