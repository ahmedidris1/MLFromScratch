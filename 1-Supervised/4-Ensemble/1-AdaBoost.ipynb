{
 "cells": [
  {
   "cell_type": "code",
   "execution_count": 1,
   "id": "784ca14a-c02b-42e8-84b9-c33c61154354",
   "metadata": {},
   "outputs": [],
   "source": [
    "import numpy as np"
   ]
  },
  {
   "cell_type": "code",
   "execution_count": 2,
   "id": "9e96a17a-24e5-411a-88d7-c467c12544e1",
   "metadata": {},
   "outputs": [],
   "source": [
    "class DecisionStump:\n",
    "    def __init__(self):\n",
    "        self.feature_index = None\n",
    "        self.threshold = None\n",
    "        self.alpha = None\n",
    "        self.polarity = 1\n",
    "        \n",
    "    \n",
    "    def predict(self, X):\n",
    "        n_samples = X.shape[0]\n",
    "        feature_column = X[:, self.feature_index]\n",
    "        \n",
    "        predictions = np.ones(n_samples)\n",
    "        if self.polarity == 1:\n",
    "            predictions[feature_column < self.threshold] = -1\n",
    "        else:\n",
    "            predictions[feature_column > self.threshold] = -1\n",
    "            \n",
    "        return predictions"
   ]
  },
  {
   "cell_type": "code",
   "execution_count": 3,
   "id": "26dd1cd5-5c0b-4846-8d67-7a4d4cb17e19",
   "metadata": {},
   "outputs": [],
   "source": [
    "class AdaBoost:\n",
    "    def __init__(self, n_stumps=5):\n",
    "        self.n_stumps = n_stumps\n",
    "\n",
    "        \n",
    "    def fit(self, X, y):\n",
    "        n_samples, n_features = X.shape\n",
    "\n",
    "        w = np.full(n_samples, (1/n_samples))\n",
    "        self.stumps = []\n",
    "\n",
    "        for _ in range(self.n_stumps):\n",
    "            decision_stump = DecisionStump()\n",
    "            min_error = float('inf')\n",
    "            \n",
    "            for feature_index in range(n_features):\n",
    "                feature_column = X[:, feature_index]\n",
    "                thresholds = np.unique(feature_column)\n",
    "                \n",
    "                for threshold in thresholds:\n",
    "                    pol = 1\n",
    "                    predictions = np.ones(n_samples)\n",
    "                    predictions[feature_column < threshold] = -1\n",
    "                    \n",
    "                    missclassified_weights = w[y!= predictions]\n",
    "                    \n",
    "                    error = sum(missclassified_weights)\n",
    "                    \n",
    "                    if error > 0.5:\n",
    "                        error = 1 - error\n",
    "                        pol = -1\n",
    "                        \n",
    "                    if error < min_error:\n",
    "                        min_error = error\n",
    "                        decision_stump.polarity = pol\n",
    "                        decision_stump.feature_index = feature_index\n",
    "                        decision_stump.threshold = threshold\n",
    "                 \n",
    "                EPSILON = 1e-15\n",
    "                decision_stump.alpha = 0.5 * np.log(  (1-error) / (error+EPSILON) )\n",
    "                \n",
    "                stump_predictions = decision_stump.predict(X)\n",
    "                w *= np.exp(-decision_stump.alpha*y*stump_predictions)\n",
    "                w /= sum(w)\n",
    "                self.stumps.append(decision_stump)\n",
    "                \n",
    "    \n",
    "    def predict(self, X):\n",
    "        for decision_stump in self.stumps:\n",
    "            stumps_predictions = [ (stump.alpha * stump.predict(X)) for stump in self.stumps]\n",
    "            stumps_aggregated_prediction = np.sum(stumps_predictions, axis=0)\n",
    "            sign_prediction = np.sign(stumps_aggregated_prediction)\n",
    "            return sign_prediction"
   ]
  },
  {
   "cell_type": "code",
   "execution_count": 4,
   "id": "bd2b67b5-2b02-4807-a724-df4c1c46a357",
   "metadata": {},
   "outputs": [],
   "source": [
    "from sklearn.datasets import load_breast_cancer\n",
    "from sklearn.model_selection import train_test_split"
   ]
  },
  {
   "cell_type": "code",
   "execution_count": 5,
   "id": "764466f2-491a-4f06-97cf-3bf52b1933de",
   "metadata": {},
   "outputs": [],
   "source": [
    "dataset = load_breast_cancer()\n",
    "X, y = dataset.data, dataset.target"
   ]
  },
  {
   "cell_type": "code",
   "execution_count": 6,
   "id": "893e58c8-8d1f-4187-900a-51af75c24a26",
   "metadata": {},
   "outputs": [],
   "source": [
    "y[y == 0] = -1"
   ]
  },
  {
   "cell_type": "code",
   "execution_count": 7,
   "id": "79268965-420b-4ede-bca8-28642feaccd1",
   "metadata": {},
   "outputs": [],
   "source": [
    "X_train, X_test, y_train, y_test = train_test_split(X, y, test_size=0.2, random_state=5)"
   ]
  },
  {
   "cell_type": "code",
   "execution_count": 13,
   "id": "f96c0e36-52d8-4570-84dd-3ca5788ed8d5",
   "metadata": {},
   "outputs": [],
   "source": [
    "adaboost_clf = AdaBoost(n_stumps=10)"
   ]
  },
  {
   "cell_type": "code",
   "execution_count": 14,
   "id": "b877c8e8-3a2d-45a6-bb6a-10c5f9ff461b",
   "metadata": {},
   "outputs": [],
   "source": [
    "adaboost_clf.fit(X_train, y_train)"
   ]
  },
  {
   "cell_type": "code",
   "execution_count": 15,
   "id": "e719c6d0-144e-48be-b70e-e476d4fb119a",
   "metadata": {},
   "outputs": [],
   "source": [
    "y_predicted = adaboost_clf.predict(X_test)"
   ]
  },
  {
   "cell_type": "code",
   "execution_count": 11,
   "id": "bcbf258f-c5f9-43d4-bf15-a9436b8e0fee",
   "metadata": {},
   "outputs": [],
   "source": [
    "def accuracy(original, predicted):\n",
    "    return sum(original == predicted)/len(original)"
   ]
  },
  {
   "cell_type": "code",
   "execution_count": 16,
   "id": "99db080f-c36a-4819-ab00-43fa2eb6d226",
   "metadata": {},
   "outputs": [
    {
     "name": "stdout",
     "output_type": "stream",
     "text": [
      "accuracy = 90.4%\n"
     ]
    }
   ],
   "source": [
    "acc = accuracy(y_test, y_predicted)\n",
    "print(f'accuracy = {acc*100:.1f}%')"
   ]
  },
  {
   "cell_type": "code",
   "execution_count": null,
   "id": "fd07a7ff-091c-4aab-8420-c43a635fcf97",
   "metadata": {},
   "outputs": [],
   "source": []
  }
 ],
 "metadata": {
  "kernelspec": {
   "display_name": "Python 3 (ipykernel)",
   "language": "python",
   "name": "python3"
  },
  "language_info": {
   "codemirror_mode": {
    "name": "ipython",
    "version": 3
   },
   "file_extension": ".py",
   "mimetype": "text/x-python",
   "name": "python",
   "nbconvert_exporter": "python",
   "pygments_lexer": "ipython3",
   "version": "3.8.10"
  }
 },
 "nbformat": 4,
 "nbformat_minor": 5
}
